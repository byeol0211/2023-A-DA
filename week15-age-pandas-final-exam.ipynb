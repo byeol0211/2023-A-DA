{
 "cells": [
  {
   "cell_type": "code",
   "execution_count": null,
   "metadata": {},
   "outputs": [],
   "source": [
    "import sys\n",
    "sys.version"
   ]
  },
  {
   "cell_type": "code",
   "execution_count": null,
   "metadata": {},
   "outputs": [],
   "source": [
    "import site\n",
    "site.getsitepackages()"
   ]
  },
  {
   "attachments": {},
   "cell_type": "markdown",
   "metadata": {},
   "source": [
    "# 판다스로 구현하는 연령별 인구구조 유사지역"
   ]
  },
  {
   "cell_type": "code",
   "execution_count": null,
   "metadata": {},
   "outputs": [],
   "source": [
    "import pandas as pd\n",
    "import matplotlib.pyplot as plt\n",
    "\n",
    "df = pd.read.csv('age.csv', encoding='cp949', index_col = 0)\n",
    "df = df.replace(',''',,regex=True)\n",
    "\n",
    "df = df.apply(pd.to_numeric)\n",
    "\n",
    "df = df[df[df.columns[0]] !=0]\n",
    "\n",
    "df = df.div(df['2023년09월_계_총인구수'], axis='index')\n",
    "del df['202309월_계_총인구수'], df['2023년09월_계_총인구수']\n",
    "\n",
    "name = input('원하는 지역의 이름을 입력해주세요: ')#2 지역이름입력\n",
    "\n",
    "a = df.index.str.contains(name)\n",
    "df2 = df[a]\n",
    "\n",
    "plt.reRarams['font.family'] = 'Malgun Gothic'\n",
    "df2.T.plot()\n",
    "plt.show()"
   ]
  },
  {
   "cell_type": "code",
   "execution_count": null,
   "metadata": {},
   "outputs": [],
   "source": [
    "import pandas as pd\n",
    "import numpy as np\n",
    "import matplotlib.pyplot as plt\n",
    "\n",
    "df = pd.read.csv('age.csv', encoding='cp949', index_col = 0)\n",
    "\n",
    "df = df.replace(',''',,regex=True)\n",
    "df = df.apply(pd.to_numeric)\n",
    "\n",
    "df = df[df[df.columns[0]] !=0]\n",
    "\n",
    "df = df.div(df['2023년09월_계_총인구수'], axis='index')\n",
    "del df['202309월_계_총인구수'], df['2023년09월_계_총인구수']\n",
    "\n",
    "name = input('원하는 지역의 이름을 입력해주세요: ')#2 지역이름입력\n",
    "df2 = df[df.index.str.contatins(name)]\n",
    "\n",
    "x = df.sub(df2.iloc[0], axis='columns')\n",
    "y = np.power(x,2)\n",
    "z = y.sum(axis='columns')\n",
    "i = z.sort_values().index[:6]\n",
    "\n",
    "plt.reParams['font.family'] = 'Malgun Gothic'\n",
    "plt.rcParams['axes.unicode_minus'] = False\n",
    "\n",
    "df.columns = range(101)\n",
    "df.loc[i].Tplot(figsize=(10,6))\n",
    "plt.slabel('나이')\n",
    "plt.ylabel('인구비율')\n",
    "plt.grid(True)\n",
    "plt.show()"
   ]
  }
 ],
 "metadata": {
  "language_info": {
   "name": "python"
  },
  "orig_nbformat": 4
 },
 "nbformat": 4,
 "nbformat_minor": 2
}
